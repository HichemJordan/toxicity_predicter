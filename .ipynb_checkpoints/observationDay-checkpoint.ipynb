{
 "cells": [
  {
   "cell_type": "markdown",
   "metadata": {
    "id": "gyjOxq5JfyR6"
   },
   "source": [
    "# Twitter connection "
   ]
  },
  {
   "cell_type": "code",
   "execution_count": 224,
   "metadata": {
    "id": "sdlSH5Uyfy48"
   },
   "outputs": [],
   "source": [
    "# import tweepy\n",
    "import tweepy as tw\n",
    "import numpy as np\n",
    "\n",
    "\n",
    "# your Twitter API key and API secret\n",
    "my_api_key = \"7Itm54s5C6UzzAJiHGdebyAAg\"\n",
    "my_api_secret = \"FQikM8b2O7Gsj72jiyYOkbtgIiYhfE13bjWC2EvIzUd3i4cWX5\"\n",
    "access_token = \"963549498659262466-dBbkkrXPELf24pJ5MRCUf0GC9YInnXN\"\n",
    "access_token_secret = \"KyopfN9fk1220EzPCGcalqwr00lDputoQT1ZrlyoxqmLX\"\n",
    "# authenticate\n",
    "auth = tw.OAuthHandler(my_api_key, my_api_secret)\n",
    "auth.set_access_token(access_token, access_token_secret)\n",
    "api = tw.API(auth, wait_on_rate_limit=True)"
   ]
  },
  {
   "cell_type": "code",
   "execution_count": 115,
   "metadata": {
    "id": "PDYPh9IXgAM5"
   },
   "outputs": [],
   "source": [
    "search_query = \"#harcelement -filter:retweets\""
   ]
  },
  {
   "cell_type": "code",
   "execution_count": 117,
   "metadata": {
    "id": "oNvsy8fMgKY7"
   },
   "outputs": [],
   "source": [
    "# get tweets from the API\n",
    "tweets = tw.Cursor(api.search,\n",
    "              q=search_query,\n",
    "              lang=\"fr\",\n",
    "              since=\"2008-01-01\",\n",
    "              tweet_mode=\"extended\",\n",
    "              count=5).items(50)\n",
    "# store the API responses in a list\n",
    "tweets_copy = []\n",
    "for tweet in tweets:\n",
    "    tweets_copy.append(tweet)\n",
    "    \n",
    "\n"
   ]
  },
  {
   "cell_type": "code",
   "execution_count": 118,
   "metadata": {
    "colab": {
     "base_uri": "https://localhost:8080/"
    },
    "id": "zsq4_yYrgjH8",
    "outputId": "8af84d2f-74c7-4fdd-f252-0c895a0ca842"
   },
   "outputs": [
    {
     "name": "stdout",
     "output_type": "stream",
     "text": [
      "Total Tweets fetched: 50\n"
     ]
    }
   ],
   "source": [
    "print(\"Total Tweets fetched:\", len(tweets_copy))"
   ]
  },
  {
   "cell_type": "markdown",
   "metadata": {
    "id": "0-DBKJwqCEfP"
   },
   "source": [
    "# Creation du dataset"
   ]
  },
  {
   "cell_type": "code",
   "execution_count": 119,
   "metadata": {
    "id": "cR132k7OyCNU"
   },
   "outputs": [],
   "source": [
    "import pandas as pd\n",
    "# intialize the dataframe\n",
    "tweets_df = pd.DataFrame()\n",
    "# populate the dataframe\n",
    "tmp = []\n",
    "for tweet in tweets_copy:\n",
    "    hashtags = []\n",
    "    try:\n",
    "        for hashtag in tweet.entities[\"hashtags\"]:\n",
    "            hashtags.append(hashtag[\"text\"])\n",
    "        text = api.get_status(id=tweet.id, tweet_mode='extended').full_text\n",
    "    except:\n",
    "        pass\n",
    "    tmp.append(text) "
   ]
  },
  {
   "cell_type": "code",
   "execution_count": 120,
   "metadata": {
    "colab": {
     "base_uri": "https://localhost:8080/"
    },
    "id": "SH4peNgzIGJP",
    "outputId": "844cd44d-5c90-4dc8-fcd2-0faa58a0d28a"
   },
   "outputs": [
    {
     "name": "stdout",
     "output_type": "stream",
     "text": [
      "50\n"
     ]
    }
   ],
   "source": [
    "print(len(tmp))"
   ]
  },
  {
   "cell_type": "markdown",
   "metadata": {
    "id": "RWSsaK7YCObl"
   },
   "source": [
    "# Detoxify annotation"
   ]
  },
  {
   "cell_type": "code",
   "execution_count": 9,
   "metadata": {
    "colab": {
     "base_uri": "https://localhost:8080/"
    },
    "id": "Bnrsm_B13Bso",
    "outputId": "2aa13e1d-230e-469e-f132-22c8d9ff5ae8"
   },
   "outputs": [
    {
     "name": "stdout",
     "output_type": "stream",
     "text": [
      "Looking in indexes: https://pypi.org/simple, https://us-python.pkg.dev/colab-wheels/public/simple/\n",
      "Requirement already satisfied: detoxify in /usr/local/lib/python3.7/dist-packages (0.5.0)\n",
      "Requirement already satisfied: transformers!=4.18.0 in /usr/local/lib/python3.7/dist-packages (from detoxify) (4.19.2)\n",
      "Requirement already satisfied: sentencepiece>=0.1.94 in /usr/local/lib/python3.7/dist-packages (from detoxify) (0.1.96)\n",
      "Requirement already satisfied: torch>=1.7.0 in /usr/local/lib/python3.7/dist-packages (from detoxify) (1.11.0+cu113)\n",
      "Requirement already satisfied: typing-extensions in /usr/local/lib/python3.7/dist-packages (from torch>=1.7.0->detoxify) (4.2.0)\n",
      "Requirement already satisfied: regex!=2019.12.17 in /usr/local/lib/python3.7/dist-packages (from transformers!=4.18.0->detoxify) (2019.12.20)\n",
      "Requirement already satisfied: filelock in /usr/local/lib/python3.7/dist-packages (from transformers!=4.18.0->detoxify) (3.7.0)\n",
      "Requirement already satisfied: packaging>=20.0 in /usr/local/lib/python3.7/dist-packages (from transformers!=4.18.0->detoxify) (21.3)\n",
      "Requirement already satisfied: huggingface-hub<1.0,>=0.1.0 in /usr/local/lib/python3.7/dist-packages (from transformers!=4.18.0->detoxify) (0.7.0)\n",
      "Requirement already satisfied: tokenizers!=0.11.3,<0.13,>=0.11.1 in /usr/local/lib/python3.7/dist-packages (from transformers!=4.18.0->detoxify) (0.12.1)\n",
      "Requirement already satisfied: numpy>=1.17 in /usr/local/lib/python3.7/dist-packages (from transformers!=4.18.0->detoxify) (1.21.6)\n",
      "Requirement already satisfied: importlib-metadata in /usr/local/lib/python3.7/dist-packages (from transformers!=4.18.0->detoxify) (4.11.3)\n",
      "Requirement already satisfied: requests in /usr/local/lib/python3.7/dist-packages (from transformers!=4.18.0->detoxify) (2.23.0)\n",
      "Requirement already satisfied: pyyaml>=5.1 in /usr/local/lib/python3.7/dist-packages (from transformers!=4.18.0->detoxify) (6.0)\n",
      "Requirement already satisfied: tqdm>=4.27 in /usr/local/lib/python3.7/dist-packages (from transformers!=4.18.0->detoxify) (4.64.0)\n",
      "Requirement already satisfied: pyparsing!=3.0.5,>=2.0.2 in /usr/local/lib/python3.7/dist-packages (from packaging>=20.0->transformers!=4.18.0->detoxify) (3.0.9)\n",
      "Requirement already satisfied: zipp>=0.5 in /usr/local/lib/python3.7/dist-packages (from importlib-metadata->transformers!=4.18.0->detoxify) (3.8.0)\n",
      "Requirement already satisfied: idna<3,>=2.5 in /usr/local/lib/python3.7/dist-packages (from requests->transformers!=4.18.0->detoxify) (2.10)\n",
      "Requirement already satisfied: urllib3!=1.25.0,!=1.25.1,<1.26,>=1.21.1 in /usr/local/lib/python3.7/dist-packages (from requests->transformers!=4.18.0->detoxify) (1.24.3)\n",
      "Requirement already satisfied: chardet<4,>=3.0.2 in /usr/local/lib/python3.7/dist-packages (from requests->transformers!=4.18.0->detoxify) (3.0.4)\n",
      "Requirement already satisfied: certifi>=2017.4.17 in /usr/local/lib/python3.7/dist-packages (from requests->transformers!=4.18.0->detoxify) (2022.5.18.1)\n"
     ]
    }
   ],
   "source": [
    "pip install detoxify"
   ]
  },
  {
   "cell_type": "code",
   "execution_count": null,
   "metadata": {
    "id": "S7V3uv4P4Hj4"
   },
   "outputs": [],
   "source": [
    "from detoxify import Detoxify\n",
    "\n",
    "toxicity = []\n",
    "\n",
    "for t in tmp:\n",
    "  toxicity.append(Detoxify('multilingual').predict(t)[\"toxicity\"])\n",
    "\n",
    "print(toxicity[0:5])"
   ]
  },
  {
   "cell_type": "code",
   "execution_count": 215,
   "metadata": {
    "id": "1J5gZnD-MSOx"
   },
   "outputs": [],
   "source": [
    "annotated = []\n",
    "for e in toxicity:\n",
    "  if e < 0.5:\n",
    "    annotated.append(1)\n",
    "  else:\n",
    "    annotated.append(0) "
   ]
  },
  {
   "cell_type": "markdown",
   "metadata": {
    "id": "69VWvZEEOS3o"
   },
   "source": [
    "# Exportation vers csv"
   ]
  },
  {
   "cell_type": "code",
   "execution_count": 216,
   "metadata": {
    "id": "7J3iCyOaCs-X"
   },
   "outputs": [],
   "source": [
    "dataset = pd.DataFrame(list(zip(tmp, annotated))  ,columns = [\"tweet\",\"toxicity\"])\n",
    "dataset.to_csv(\"dataset.csv\", index = False)"
   ]
  },
  {
   "cell_type": "markdown",
   "metadata": {
    "id": "s4sTWleVOZ6e"
   },
   "source": [
    "# Performing EDA"
   ]
  },
  {
   "cell_type": "code",
   "execution_count": 70,
   "metadata": {
    "colab": {
     "base_uri": "https://localhost:8080/"
    },
    "id": "ArgoynGqNZhR",
    "outputId": "51f751ea-acb8-4f99-a157-2565773d2e85"
   },
   "outputs": [
    {
     "name": "stdout",
     "output_type": "stream",
     "text": [
      "[nltk_data] Downloading package stopwords to /root/nltk_data...\n",
      "[nltk_data]   Package stopwords is already up-to-date!\n"
     ]
    },
    {
     "data": {
      "text/plain": [
       "True"
      ]
     },
     "execution_count": 70,
     "metadata": {},
     "output_type": "execute_result"
    }
   ],
   "source": [
    "import numpy as np\n",
    "import pandas as pd\n",
    "import matplotlib.pyplot as plt\n",
    "import seaborn as sns\n",
    "import re\n",
    "from wordcloud import STOPWORDS\n",
    "import nltk\n",
    "from nltk.corpus import stopwords\n",
    "from nltk.stem import SnowballStemmer, PorterStemmer\n",
    "import math\n",
    "from collections import Counter\n",
    "from sklearn.model_selection import train_test_split\n",
    "import os\n",
    "\n",
    "nltk.download('stopwords')"
   ]
  },
  {
   "cell_type": "code",
   "execution_count": 217,
   "metadata": {
    "colab": {
     "base_uri": "https://localhost:8080/",
     "height": 206
    },
    "id": "dYdRF5PEP1c9",
    "outputId": "7b303da6-6032-405e-eaf5-fa73959ae1ab"
   },
   "outputs": [
    {
     "data": {
      "text/html": [
       "\n",
       "  <div id=\"df-f70028cf-5297-4798-a7a7-2acf682bd382\">\n",
       "    <div class=\"colab-df-container\">\n",
       "      <div>\n",
       "<style scoped>\n",
       "    .dataframe tbody tr th:only-of-type {\n",
       "        vertical-align: middle;\n",
       "    }\n",
       "\n",
       "    .dataframe tbody tr th {\n",
       "        vertical-align: top;\n",
       "    }\n",
       "\n",
       "    .dataframe thead th {\n",
       "        text-align: right;\n",
       "    }\n",
       "</style>\n",
       "<table border=\"1\" class=\"dataframe\">\n",
       "  <thead>\n",
       "    <tr style=\"text-align: right;\">\n",
       "      <th></th>\n",
       "      <th>tweet</th>\n",
       "      <th>toxicity</th>\n",
       "    </tr>\n",
       "  </thead>\n",
       "  <tbody>\n",
       "    <tr>\n",
       "      <th>0</th>\n",
       "      <td>[A l’international] #Harcèlement sexuel : prév...</td>\n",
       "      <td>1</td>\n",
       "    </tr>\n",
       "    <tr>\n",
       "      <th>1</th>\n",
       "      <td>#ChristopheBarbier @bfmtvchaineinfo à une tell...</td>\n",
       "      <td>1</td>\n",
       "    </tr>\n",
       "    <tr>\n",
       "      <th>2</th>\n",
       "      <td>@actu_incomplete Beaucoup ! Un exemple ? Capuc...</td>\n",
       "      <td>1</td>\n",
       "    </tr>\n",
       "    <tr>\n",
       "      <th>3</th>\n",
       "      <td>@Anissa_Khedher Pour la sécurité in candidat @...</td>\n",
       "      <td>1</td>\n",
       "    </tr>\n",
       "    <tr>\n",
       "      <th>4</th>\n",
       "      <td>@Maatnefer1 Trump/Biden/Barak/Clinton's/SARKOZ...</td>\n",
       "      <td>1</td>\n",
       "    </tr>\n",
       "  </tbody>\n",
       "</table>\n",
       "</div>\n",
       "      <button class=\"colab-df-convert\" onclick=\"convertToInteractive('df-f70028cf-5297-4798-a7a7-2acf682bd382')\"\n",
       "              title=\"Convert this dataframe to an interactive table.\"\n",
       "              style=\"display:none;\">\n",
       "        \n",
       "  <svg xmlns=\"http://www.w3.org/2000/svg\" height=\"24px\"viewBox=\"0 0 24 24\"\n",
       "       width=\"24px\">\n",
       "    <path d=\"M0 0h24v24H0V0z\" fill=\"none\"/>\n",
       "    <path d=\"M18.56 5.44l.94 2.06.94-2.06 2.06-.94-2.06-.94-.94-2.06-.94 2.06-2.06.94zm-11 1L8.5 8.5l.94-2.06 2.06-.94-2.06-.94L8.5 2.5l-.94 2.06-2.06.94zm10 10l.94 2.06.94-2.06 2.06-.94-2.06-.94-.94-2.06-.94 2.06-2.06.94z\"/><path d=\"M17.41 7.96l-1.37-1.37c-.4-.4-.92-.59-1.43-.59-.52 0-1.04.2-1.43.59L10.3 9.45l-7.72 7.72c-.78.78-.78 2.05 0 2.83L4 21.41c.39.39.9.59 1.41.59.51 0 1.02-.2 1.41-.59l7.78-7.78 2.81-2.81c.8-.78.8-2.07 0-2.86zM5.41 20L4 18.59l7.72-7.72 1.47 1.35L5.41 20z\"/>\n",
       "  </svg>\n",
       "      </button>\n",
       "      \n",
       "  <style>\n",
       "    .colab-df-container {\n",
       "      display:flex;\n",
       "      flex-wrap:wrap;\n",
       "      gap: 12px;\n",
       "    }\n",
       "\n",
       "    .colab-df-convert {\n",
       "      background-color: #E8F0FE;\n",
       "      border: none;\n",
       "      border-radius: 50%;\n",
       "      cursor: pointer;\n",
       "      display: none;\n",
       "      fill: #1967D2;\n",
       "      height: 32px;\n",
       "      padding: 0 0 0 0;\n",
       "      width: 32px;\n",
       "    }\n",
       "\n",
       "    .colab-df-convert:hover {\n",
       "      background-color: #E2EBFA;\n",
       "      box-shadow: 0px 1px 2px rgba(60, 64, 67, 0.3), 0px 1px 3px 1px rgba(60, 64, 67, 0.15);\n",
       "      fill: #174EA6;\n",
       "    }\n",
       "\n",
       "    [theme=dark] .colab-df-convert {\n",
       "      background-color: #3B4455;\n",
       "      fill: #D2E3FC;\n",
       "    }\n",
       "\n",
       "    [theme=dark] .colab-df-convert:hover {\n",
       "      background-color: #434B5C;\n",
       "      box-shadow: 0px 1px 3px 1px rgba(0, 0, 0, 0.15);\n",
       "      filter: drop-shadow(0px 1px 2px rgba(0, 0, 0, 0.3));\n",
       "      fill: #FFFFFF;\n",
       "    }\n",
       "  </style>\n",
       "\n",
       "      <script>\n",
       "        const buttonEl =\n",
       "          document.querySelector('#df-f70028cf-5297-4798-a7a7-2acf682bd382 button.colab-df-convert');\n",
       "        buttonEl.style.display =\n",
       "          google.colab.kernel.accessAllowed ? 'block' : 'none';\n",
       "\n",
       "        async function convertToInteractive(key) {\n",
       "          const element = document.querySelector('#df-f70028cf-5297-4798-a7a7-2acf682bd382');\n",
       "          const dataTable =\n",
       "            await google.colab.kernel.invokeFunction('convertToInteractive',\n",
       "                                                     [key], {});\n",
       "          if (!dataTable) return;\n",
       "\n",
       "          const docLinkHtml = 'Like what you see? Visit the ' +\n",
       "            '<a target=\"_blank\" href=https://colab.research.google.com/notebooks/data_table.ipynb>data table notebook</a>'\n",
       "            + ' to learn more about interactive tables.';\n",
       "          element.innerHTML = '';\n",
       "          dataTable['output_type'] = 'display_data';\n",
       "          await google.colab.output.renderOutput(dataTable, element);\n",
       "          const docLink = document.createElement('div');\n",
       "          docLink.innerHTML = docLinkHtml;\n",
       "          element.appendChild(docLink);\n",
       "        }\n",
       "      </script>\n",
       "    </div>\n",
       "  </div>\n",
       "  "
      ],
      "text/plain": [
       "                                               tweet  toxicity\n",
       "0  [A l’international] #Harcèlement sexuel : prév...         1\n",
       "1  #ChristopheBarbier @bfmtvchaineinfo à une tell...         1\n",
       "2  @actu_incomplete Beaucoup ! Un exemple ? Capuc...         1\n",
       "3  @Anissa_Khedher Pour la sécurité in candidat @...         1\n",
       "4  @Maatnefer1 Trump/Biden/Barak/Clinton's/SARKOZ...         1"
      ]
     },
     "execution_count": 217,
     "metadata": {},
     "output_type": "execute_result"
    }
   ],
   "source": [
    "df = pd.read_csv('./dataset.csv')\n",
    "df.head()"
   ]
  },
  {
   "cell_type": "code",
   "execution_count": 208,
   "metadata": {
    "colab": {
     "base_uri": "https://localhost:8080/"
    },
    "id": "vG6soP2TrImt",
    "outputId": "c91d032e-ec80-4b6c-9fec-1610d83a9c94"
   },
   "outputs": [
    {
     "data": {
      "text/plain": [
       "tweet       0\n",
       "toxicity    0\n",
       "dtype: int64"
      ]
     },
     "execution_count": 208,
     "metadata": {},
     "output_type": "execute_result"
    }
   ],
   "source": [
    "df.isnull().sum()"
   ]
  },
  {
   "cell_type": "code",
   "execution_count": 218,
   "metadata": {
    "colab": {
     "base_uri": "https://localhost:8080/",
     "height": 411
    },
    "id": "K1aJtZ-oQMEF",
    "outputId": "8bb78b5d-d6ad-4972-d60d-78fd72427f07"
   },
   "outputs": [
    {
     "name": "stderr",
     "output_type": "stream",
     "text": [
      "/usr/local/lib/python3.7/dist-packages/seaborn/_decorators.py:43: FutureWarning: Pass the following variable as a keyword arg: x. From version 0.12, the only valid positional argument will be `data`, and passing other arguments without an explicit keyword will result in an error or misinterpretation.\n",
      "  FutureWarning\n"
     ]
    },
    {
     "data": {
      "image/png": "[encoded data removed]",
      "text/plain": [
       "<Figure size 360x360 with 1 Axes>"
      ]
     },
     "metadata": {
      "needs_background": "light"
     },
     "output_type": "display_data"
    }
   ],
   "source": [
    "fig, ax = plt.subplots(1,1,figsize=(5,5))\n",
    "total = float(len(df[\"toxicity\"]))\n",
    "\n",
    "cntplot = sns.countplot(df[\"toxicity\"])\n",
    "cntplot.set_title(' 0 for toxic and 1 for non toxic tweets')\n",
    "\n",
    "for p in ax.patches:\n",
    "    # Get height.\n",
    "    height = p.get_height()\n",
    "    ax.text(p.get_x() + p.get_width()/2.0, height + 3, '{:1.2f}%'.format(100*height/total), ha='center')\n",
    "    \n",
    "plt.show()"
   ]
  },
  {
   "cell_type": "markdown",
   "metadata": {
    "id": "gVdaCYnsRNt0"
   },
   "source": [
    "# preprocessing text"
   ]
  },
  {
   "cell_type": "code",
   "execution_count": 219,
   "metadata": {
    "id": "NjPFGcYRRCTe"
   },
   "outputs": [],
   "source": [
    "stemmer = SnowballStemmer(\"french\")\n",
    "stop_words = set(stopwords.words('french'))\n",
    "\n",
    "def preprocess(text_string):\n",
    "    text_string = text_string.lower() # Convert everything to lower case.\n",
    "    text_string = re.sub('[^A-Za-z0-9]+', ' ', text_string) # Remove special characters and punctuations\n",
    "    \n",
    "    x = text_string.split()\n",
    "    new_text = []\n",
    "    \n",
    "    for word in x:\n",
    "        if word not in stop_words:\n",
    "            new_text.append(stemmer.stem(word))\n",
    "            \n",
    "    text_string = ' '.join(new_text)\n",
    "    return text_string"
   ]
  },
  {
   "cell_type": "code",
   "execution_count": 220,
   "metadata": {
    "colab": {
     "base_uri": "https://localhost:8080/",
     "height": 206
    },
    "id": "x8pYrQETRvUm",
    "outputId": "ec188236-1017-4fc0-ebed-c0121546eb4d"
   },
   "outputs": [
    {
     "data": {
      "text/html": [
       "\n",
       "  <div id=\"df-5d357e5e-25ec-4535-b3bc-3cc253f85cae\">\n",
       "    <div class=\"colab-df-container\">\n",
       "      <div>\n",
       "<style scoped>\n",
       "    .dataframe tbody tr th:only-of-type {\n",
       "        vertical-align: middle;\n",
       "    }\n",
       "\n",
       "    .dataframe tbody tr th {\n",
       "        vertical-align: top;\n",
       "    }\n",
       "\n",
       "    .dataframe thead th {\n",
       "        text-align: right;\n",
       "    }\n",
       "</style>\n",
       "<table border=\"1\" class=\"dataframe\">\n",
       "  <thead>\n",
       "    <tr style=\"text-align: right;\">\n",
       "      <th></th>\n",
       "      <th>tweet</th>\n",
       "      <th>toxicity</th>\n",
       "    </tr>\n",
       "  </thead>\n",
       "  <tbody>\n",
       "    <tr>\n",
       "      <th>0</th>\n",
       "      <td>a international harc lement sexuel pr vention ...</td>\n",
       "      <td>1</td>\n",
       "    </tr>\n",
       "    <tr>\n",
       "      <th>1</th>\n",
       "      <td>christophebarbi bfmtvchaineinfo tel empath vic...</td>\n",
       "      <td>1</td>\n",
       "    </tr>\n",
       "    <tr>\n",
       "      <th>2</th>\n",
       "      <td>actu incomplet beaucoup exempl capucin coquand...</td>\n",
       "      <td>1</td>\n",
       "    </tr>\n",
       "    <tr>\n",
       "      <th>3</th>\n",
       "      <td>aniss khedh cur in candidat emmanuelmacron jer...</td>\n",
       "      <td>1</td>\n",
       "    </tr>\n",
       "    <tr>\n",
       "      <th>4</th>\n",
       "      <td>maatnefer1 trump biden barak clinton sarkozy m...</td>\n",
       "      <td>1</td>\n",
       "    </tr>\n",
       "  </tbody>\n",
       "</table>\n",
       "</div>\n",
       "      <button class=\"colab-df-convert\" onclick=\"convertToInteractive('df-5d357e5e-25ec-4535-b3bc-3cc253f85cae')\"\n",
       "              title=\"Convert this dataframe to an interactive table.\"\n",
       "              style=\"display:none;\">\n",
       "        \n",
       "  <svg xmlns=\"http://www.w3.org/2000/svg\" height=\"24px\"viewBox=\"0 0 24 24\"\n",
       "       width=\"24px\">\n",
       "    <path d=\"M0 0h24v24H0V0z\" fill=\"none\"/>\n",
       "    <path d=\"M18.56 5.44l.94 2.06.94-2.06 2.06-.94-2.06-.94-.94-2.06-.94 2.06-2.06.94zm-11 1L8.5 8.5l.94-2.06 2.06-.94-2.06-.94L8.5 2.5l-.94 2.06-2.06.94zm10 10l.94 2.06.94-2.06 2.06-.94-2.06-.94-.94-2.06-.94 2.06-2.06.94z\"/><path d=\"M17.41 7.96l-1.37-1.37c-.4-.4-.92-.59-1.43-.59-.52 0-1.04.2-1.43.59L10.3 9.45l-7.72 7.72c-.78.78-.78 2.05 0 2.83L4 21.41c.39.39.9.59 1.41.59.51 0 1.02-.2 1.41-.59l7.78-7.78 2.81-2.81c.8-.78.8-2.07 0-2.86zM5.41 20L4 18.59l7.72-7.72 1.47 1.35L5.41 20z\"/>\n",
       "  </svg>\n",
       "      </button>\n",
       "      \n",
       "  <style>\n",
       "    .colab-df-container {\n",
       "      display:flex;\n",
       "      flex-wrap:wrap;\n",
       "      gap: 12px;\n",
       "    }\n",
       "\n",
       "    .colab-df-convert {\n",
       "      background-color: #E8F0FE;\n",
       "      border: none;\n",
       "      border-radius: 50%;\n",
       "      cursor: pointer;\n",
       "      display: none;\n",
       "      fill: #1967D2;\n",
       "      height: 32px;\n",
       "      padding: 0 0 0 0;\n",
       "      width: 32px;\n",
       "    }\n",
       "\n",
       "    .colab-df-convert:hover {\n",
       "      background-color: #E2EBFA;\n",
       "      box-shadow: 0px 1px 2px rgba(60, 64, 67, 0.3), 0px 1px 3px 1px rgba(60, 64, 67, 0.15);\n",
       "      fill: #174EA6;\n",
       "    }\n",
       "\n",
       "    [theme=dark] .colab-df-convert {\n",
       "      background-color: #3B4455;\n",
       "      fill: #D2E3FC;\n",
       "    }\n",
       "\n",
       "    [theme=dark] .colab-df-convert:hover {\n",
       "      background-color: #434B5C;\n",
       "      box-shadow: 0px 1px 3px 1px rgba(0, 0, 0, 0.15);\n",
       "      filter: drop-shadow(0px 1px 2px rgba(0, 0, 0, 0.3));\n",
       "      fill: #FFFFFF;\n",
       "    }\n",
       "  </style>\n",
       "\n",
       "      <script>\n",
       "        const buttonEl =\n",
       "          document.querySelector('#df-5d357e5e-25ec-4535-b3bc-3cc253f85cae button.colab-df-convert');\n",
       "        buttonEl.style.display =\n",
       "          google.colab.kernel.accessAllowed ? 'block' : 'none';\n",
       "\n",
       "        async function convertToInteractive(key) {\n",
       "          const element = document.querySelector('#df-5d357e5e-25ec-4535-b3bc-3cc253f85cae');\n",
       "          const dataTable =\n",
       "            await google.colab.kernel.invokeFunction('convertToInteractive',\n",
       "                                                     [key], {});\n",
       "          if (!dataTable) return;\n",
       "\n",
       "          const docLinkHtml = 'Like what you see? Visit the ' +\n",
       "            '<a target=\"_blank\" href=https://colab.research.google.com/notebooks/data_table.ipynb>data table notebook</a>'\n",
       "            + ' to learn more about interactive tables.';\n",
       "          element.innerHTML = '';\n",
       "          dataTable['output_type'] = 'display_data';\n",
       "          await google.colab.output.renderOutput(dataTable, element);\n",
       "          const docLink = document.createElement('div');\n",
       "          docLink.innerHTML = docLinkHtml;\n",
       "          element.appendChild(docLink);\n",
       "        }\n",
       "      </script>\n",
       "    </div>\n",
       "  </div>\n",
       "  "
      ],
      "text/plain": [
       "                                               tweet  toxicity\n",
       "0  a international harc lement sexuel pr vention ...         1\n",
       "1  christophebarbi bfmtvchaineinfo tel empath vic...         1\n",
       "2  actu incomplet beaucoup exempl capucin coquand...         1\n",
       "3  aniss khedh cur in candidat emmanuelmacron jer...         1\n",
       "4  maatnefer1 trump biden barak clinton sarkozy m...         1"
      ]
     },
     "execution_count": 220,
     "metadata": {},
     "output_type": "execute_result"
    }
   ],
   "source": [
    "df[\"tweet\"] = df[\"tweet\"].apply(preprocess)\n",
    "df.head()"
   ]
  },
  {
   "cell_type": "code",
   "execution_count": 222,
   "metadata": {
    "id": "d18mZQIFTBR9"
   },
   "outputs": [],
   "source": [
    "# Break off validation set from training data\n",
    "\n",
    "y = df.toxicity\n",
    "X = df.tweet\n"
   ]
  },
  {
   "cell_type": "code",
   "execution_count": 147,
   "metadata": {
    "id": "tRqWHIY9WFJU"
   },
   "outputs": [],
   "source": []
  },
  {
   "cell_type": "code",
   "execution_count": 248,
   "metadata": {
    "colab": {
     "base_uri": "https://localhost:8080/"
    },
    "id": "CXUHj9bxW-xD",
    "outputId": "854dd2df-f396-47f0-eaca-2ee310170c9d"
   },
   "outputs": [
    {
     "name": "stdout",
     "output_type": "stream",
     "text": [
      "[16:42:06] WARNING: /workspace/src/objective/regression_obj.cu:152: reg:linear is now deprecated in favor of reg:squarederror.\n",
      "[1. 1. 1. 1. 1. 1. 1.]\n",
      "[1 1 1 1 1 1 1]\n",
      "[1. 1. 1. 1. 1. 1. 1.]\n",
      "RandomForest precision  0.8571428571428571, Recall  1.0\n",
      "SVM precision  0.8571428571428571, Recall  1.0\n",
      "XGBoost precision  0.8571428571428571, Recall  1.0\n",
      "F1 score of RandomForest model : 0.923076923076923\n",
      "F1 score of SVM model : 0.923076923076923\n",
      "F1 score of RandomForest model : 0.923076923076923\n",
      "Mean squared error of RandomForest model : 0.14285714285714285\n",
      "Mean squared error of SVM model : 0.14285714285714285\n",
      "Mean squared error of RandomForest model : 0.14285714285714285\n"
     ]
    }
   ],
   "source": [
    "from sklearn.ensemble import RandomForestRegressor\n",
    "from sklearn.metrics import mean_absolute_error\n",
    "from sklearn.metrics import precision_score\n",
    "from sklearn.metrics import recall_score\n",
    "from sklearn.svm import SVC\n",
    "from xgboost import XGBRegressor\n",
    "from sklearn.feature_extraction.text import TfidfVectorizer\n",
    "from sklearn.metrics import f1_score\n",
    "import pickle\n",
    "\n",
    "\n",
    "\n",
    "tfidf = TfidfVectorizer()\n",
    "\n",
    "x_transformed = tfidf.fit_transform(X)\n",
    "\n",
    "train_x_vector, valid_x_vector, y_train, y_valid = train_test_split(x_transformed, y, train_size=0.8, test_size=0.2, random_state=0)\n",
    "\n",
    "rfr = RandomForestRegressor(n_estimators=100, random_state=0)\n",
    "svc = SVC(kernel='linear')\n",
    "xgbr = XGBRegressor(n_estimators=1000, learning_rate= 0.1, random_state=0)\n",
    "\n",
    "\n",
    "#training\n",
    "rfr.fit(train_x_vector, y_train)\n",
    "svc.fit(train_x_vector, y_train)\n",
    "xgbr.fit(train_x_vector, y_train)\n",
    "\n",
    "\n",
    "#testing and evaluation \n",
    "\n",
    "#Make prediction on the test set\n",
    "pred_rfr = np.round(rfr.predict(valid_x_vector))\n",
    "pred_svm = np.round(svc.predict(valid_x_vector))\n",
    "pred_xgbr = np.round(xgbr.predict(valid_x_vector))\n",
    "\n",
    "print(pred_rfr)\n",
    "print(pred_svm)\n",
    "print(pred_xgbr)\n",
    "#calculating precision and recall\n",
    "\n",
    "print(\"RandomForest precision  {}, Recall  {}\".format(precision_score(list(y_valid), pred_rfr) , recall_score(list(y_valid), pred_rfr)))\n",
    "print(\"SVM precision  {}, Recall  {}\".format(precision_score(y_valid, pred_svm) , recall_score(list(y_valid), pred_svm)))\n",
    "print(\"XGBoost precision  {}, Recall  {}\".format(precision_score(y_valid, pred_xgbr) , recall_score(list(y_valid), pred_xgbr)))\n",
    "\n",
    "#F1 score\n",
    "print(\"F1 score of RandomForest model : {}\".format(f1_score(y_valid, pred_rfr)))\n",
    "print(\"F1 score of SVM model : {}\".format(f1_score(y_valid, pred_svm)))\n",
    "print(\"F1 score of RandomForest model : {}\".format(f1_score(y_valid, pred_xgbr)))\n",
    "\n",
    "#Mean absulute error\n",
    "print(\"Mean squared error of RandomForest model : {}\".format(mean_absolute_error(pred_rfr, y_valid)))\n",
    "print(\"Mean squared error of SVM model : {}\".format(mean_absolute_error(pred_svm, y_valid)))\n",
    "print(\"Mean squared error of RandomForest model : {}\".format(mean_absolute_error(pred_xgbr, y_valid)))\n",
    "\n",
    "\n",
    "#saving the model\n",
    "filename = 'finalized_model.sav'\n",
    "pickle.dump(xgbr, open(filename, 'wb'))\n"
   ]
  },
  {
   "cell_type": "markdown",
   "metadata": {
    "id": "Fhxlc86EqYjR"
   },
   "source": [
    "# Create Docker image :\n",
    "- docker build -t deploy-ml-fastapi\n",
    "\n",
    "# instanciate the container\n",
    "- docker run -d --name toxicity-analysis-api -p 80:80 deploy-ml-fastapi"
   ]
  }
 ],
 "metadata": {
  "colab": {
   "collapsed_sections": [],
   "name": "observationDay.ipynb",
   "provenance": []
  },
  "kernelspec": {
   "display_name": "Python 3",
   "language": "python",
   "name": "python3"
  },
  "language_info": {
   "codemirror_mode": {
    "name": "ipython",
    "version": 3
   },
   "file_extension": ".py",
   "mimetype": "text/x-python",
   "name": "python",
   "nbconvert_exporter": "python",
   "pygments_lexer": "ipython3",
   "version": "3.7.3"
  }
 },
 "nbformat": 4,
 "nbformat_minor": 1
}
